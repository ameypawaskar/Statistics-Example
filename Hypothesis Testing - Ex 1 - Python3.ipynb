{
 "cells": [
  {
   "cell_type": "raw",
   "metadata": {},
   "source": [
    "Example 1\n",
    "A neurologist is testing the effect of a drug on response time by injecting 100 rats with a unit dose of drug, subjecting each to neurological stimulus, and recording its response time.\n",
    "The mean of the 100 injected rats’ response times is 1.05 seconds with a sample standard deviation of 0.5 seconds. Do you think that the drug has an effect on response time?"
   ]
  },
  {
   "cell_type": "raw",
   "metadata": {},
   "source": [
    "Solution - \n",
    "n = 100\n",
    "σ = 0.5\n",
    "μ = 1.2\n",
    "μ1 = 1.05\n",
    "Consider 95% confidence interval, so p-value = 0.05\n",
    "\n",
    "H0 : drug has no effect  --> μ = 1.2 sec \n",
    "H1 : drug does have effect, --> μ ≠ 1.2 sec\n",
    "\n",
    "We assume that distribution is normal\n",
    "\n",
    "For H0,\n",
    "σ1 = σ/sqrt(n) = 0.5/sqrt(100) = 0.5/10\n",
    "σ1 = 0.05\n",
    "\n",
    "Ƶ - score = (μ - μ1) / σ1\n",
    "          = (1.2-1.05)/0.05\n",
    "          = (0.15/0.05)\n",
    "          = 3\n",
    "          \n",
    "3 standard deviations away from population mean\n",
    "3 standard deviations corresponds to 99.7% area in normal distribution\n",
    "From empirical formula as 3 X sd away from population mean there are 0.3% chances of H0 to be true, \n",
    "so we reject null hypothesis and H1 is true. Drug had effects on rats."
   ]
  },
  {
   "cell_type": "code",
   "execution_count": 7,
   "metadata": {},
   "outputs": [],
   "source": [
    "%matplotlib inline\n",
    "import numpy as np\n",
    "import pandas as pd\n",
    "from scipy import stats\n",
    "from scipy import special\n",
    "import matplotlib.pyplot as plt\n",
    "import math\n",
    "import matplotlib.mlab as mlab"
   ]
  },
  {
   "cell_type": "code",
   "execution_count": 8,
   "metadata": {},
   "outputs": [],
   "source": [
    "pop_mean = 1.2\n",
    "sample_mean = 1.05\n",
    "n = 100\n",
    "sd = 0.5"
   ]
  },
  {
   "cell_type": "code",
   "execution_count": 12,
   "metadata": {},
   "outputs": [
    {
     "data": {
      "image/png": "[encoded data removed]",
      "text/plain": [
       "<Figure size 432x288 with 1 Axes>"
      ]
     },
     "metadata": {},
     "output_type": "display_data"
    }
   ],
   "source": [
    "variance = sd*sd\n",
    "x = np.linspace(pop_mean - 3*sd, pop_mean + 3*sd, 100)\n",
    "plt.plot(x,stats.norm.pdf(x, pop_mean, sd))\n",
    "plt.show()\n",
    "#Normal Distribution of Sample\n",
    "# By Central Limit Theorem, Mean of Sammple is Mean of Population"
   ]
  },
  {
   "cell_type": "code",
   "execution_count": 3,
   "metadata": {},
   "outputs": [
    {
     "name": "stdout",
     "output_type": "stream",
     "text": [
      "0.05\n",
      "2.9999999999999982\n"
     ]
    }
   ],
   "source": [
    "#For H0: Null Hypothesis\n",
    "\n",
    "sdbar = sd/(np.sqrt(n))\n",
    "print(sdbar)\n",
    "\n",
    "z = (pop_mean - sample_mean) / sdbar\n",
    "print(z)\n"
   ]
  },
  {
   "cell_type": "code",
   "execution_count": 4,
   "metadata": {},
   "outputs": [
    {
     "name": "stdout",
     "output_type": "stream",
     "text": [
      "0.002699796063260207\n"
     ]
    }
   ],
   "source": [
    "#Calculating p-value from z-score\n",
    "\n",
    "pval= 2*(1-stats.norm.cdf(z))\n",
    "print(pval)"
   ]
  },
  {
   "cell_type": "raw",
   "metadata": {},
   "source": [
    "This p-value is less than 0.05, so we reject the null hypothesis and conclude that so we reject null hypothesis and H1 is true. Drug had effects on rats."
   ]
  }
 ],
 "metadata": {
  "kernelspec": {
   "display_name": "Python 3",
   "language": "python",
   "name": "python3"
  },
  "language_info": {
   "codemirror_mode": {
    "name": "ipython",
    "version": 3
   },
   "file_extension": ".py",
   "mimetype": "text/x-python",
   "name": "python",
   "nbconvert_exporter": "python",
   "pygments_lexer": "ipython3",
   "version": "3.5.5"
  }
 },
 "nbformat": 4,
 "nbformat_minor": 2
}
