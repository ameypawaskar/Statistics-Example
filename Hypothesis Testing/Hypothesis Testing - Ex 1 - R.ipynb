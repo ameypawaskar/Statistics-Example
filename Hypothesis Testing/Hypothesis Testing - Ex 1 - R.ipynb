{
 "cells": [
  {
   "cell_type": "raw",
   "metadata": {},
   "source": [
    "Example 1\n",
    "A neurologist is testing the effect of a drug on response time by injecting 100 rats with a unit dose of drug, subjecting each to neurological stimulus, and recording its response time.\n",
    "The mean of the 100 injected rats’ response times is 1.05 seconds with a sample standard deviation of 0.5 seconds. Do you think that the drug has an effect on response time?"
   ]
  },
  {
   "cell_type": "raw",
   "metadata": {},
   "source": [
    "Solution - \n",
    "n = 100\n",
    "σ = 0.5\n",
    "μ = 1.2\n",
    "μ1 = 1.05\n",
    "Consider 95% confidence interval, so p-value = 0.05\n",
    "\n",
    "H0 : drug has no effect  --> μ = 1.2 sec \n",
    "H1 : drug does have effect, --> μ ≠ 1.2 sec\n",
    "\n",
    "We assume that distribution is normal\n",
    "\n",
    "For H0,\n",
    "σ1 = σ/sqrt(n) = 0.5/sqrt(100-1) = 0.5/10\n",
    "σ1 = 0.05\n",
    "\n",
    "Ƶ - score = (μ - μ1) / σ1\n",
    "          = (1.2-1.05)/0.05\n",
    "          = (0.15/0.05)\n",
    "          = 3\n",
    "          \n",
    "3 standard deviations away from population mean\n",
    "3 standard deviations corresponds to 99.7% area in normal distribution\n",
    "From empirical formula as 3 X sd away from population mean there are 0.3% chances of H0 to be true, \n",
    "so we reject null hypothesis and H1 is true. Drug had effects on rats."
   ]
  },
  {
   "cell_type": "code",
   "execution_count": 2,
   "metadata": {},
   "outputs": [],
   "source": [
    "pop_mean <- 1.2\n",
    "sample_mean <- 1.05\n",
    "n <- 100\n",
    "sd <- 0.5"
   ]
  },
  {
   "cell_type": "code",
   "execution_count": 11,
   "metadata": {},
   "outputs": [
    {
     "name": "stdout",
     "output_type": "stream",
     "text": [
      "[1] 0.05\n",
      "[1] 3\n"
     ]
    }
   ],
   "source": [
    "#For H0: Null Hypothesis\n",
    "\n",
    "sdbar <- sd/(sqrt(n))\n",
    "print(sdbar)\n",
    "\n",
    "z <- (pop_mean - sample_mean) / sdbar\n",
    "print(z)"
   ]
  },
  {
   "cell_type": "code",
   "execution_count": 8,
   "metadata": {},
   "outputs": [
    {
     "name": "stdout",
     "output_type": "stream",
     "text": [
      "[1] 0.002699796\n"
     ]
    }
   ],
   "source": [
    "#Calculating p-value from z-score\n",
    "\n",
    "pval <- 2*(1-pnorm(z))\n",
    "print(pval)"
   ]
  },
  {
   "cell_type": "raw",
   "metadata": {},
   "source": [
    "This p-value is less than 0.05, so we reject the null hypothesis and conclude that so we reject null hypothesis and H1 is true. Drug had effects on rats."
   ]
  }
 ],
 "metadata": {
  "kernelspec": {
   "display_name": "R",
   "language": "R",
   "name": "ir"
  },
  "language_info": {
   "codemirror_mode": "r",
   "file_extension": ".r",
   "mimetype": "text/x-r-source",
   "name": "R",
   "pygments_lexer": "r",
   "version": "3.4.3"
  }
 },
 "nbformat": 4,
 "nbformat_minor": 2
}
