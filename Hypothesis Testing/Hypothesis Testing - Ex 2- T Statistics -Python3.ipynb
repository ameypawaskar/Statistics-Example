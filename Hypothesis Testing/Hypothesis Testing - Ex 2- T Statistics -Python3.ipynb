{
 "cells": [
  {
   "cell_type": "raw",
   "metadata": {},
   "source": [
    "Example 2\n",
    "The mean emission of all engines of a a new design needs to be below 20ppm if the design is to meet new emission requirements. Ten engines are manufactured for testing purpose, and the emission level of each is determined. \n",
    "The emission data is 15.6, 16.2, 22.5, 20.5, 16.4, 19.4, 16.6, 17.9, 12.7, 13.9\n",
    "Does the data supply is sufficient evidence to conclude that this type of engine meets this new standard?\n",
    "Assume we are willing to risk a Type I error with probability = 0.01\n"
   ]
  },
  {
   "cell_type": "raw",
   "metadata": {},
   "source": [
    "Solution - \n",
    "n = 10\n",
    "X = [15.6, 16.2, 22.5, 20.5, 16.4, 19.4, 16.6, 17.9, 12.7, 13.9]\n",
    "X-bar = 17.17\n",
    "σ = 2.98 (Summation of (X-bar - X)/(n-1))\n",
    "\n",
    "H0 : Emssion is 20 ppm  --> μ = 20ppm \n",
    "H1 : Emission is less than 20 ppm --> μ < 20ppm\n",
    "\n",
    "Assume true \n",
    "X-bar = 17.17\n",
    "\n",
    "Reject H0 if P(X-bar = 17.17 if H0 true) < 1%\n",
    "We assume that distribution is normal\n",
    "\n",
    "As small sample, we use T-statistics\n",
    "\n",
    "t = X-bar - 20 / (σ/sqrt(n))\n",
    "  = (17.17-20) / (2.98/sqrt(10))\n",
    "t = - 3.00\n",
    "\n",
    "From T-table calculate t-value for 99% and degree of freedom 9 (Symmetric distribution, one sided degree of freedom 9 (10-1)\n",
    "\n",
    "t-value = -2.821\n",
    "\n",
    "As, -3 is less than -2.821, We reject HO and H1 is true, we do meet lower emission standards, with even less than 1% type I error probability"
   ]
  },
  {
   "cell_type": "code",
   "execution_count": 11,
   "metadata": {},
   "outputs": [],
   "source": [
    "%matplotlib inline\n",
    "import numpy as np\n",
    "import pandas as pd\n",
    "from scipy import stats\n",
    "from scipy import special\n",
    "import matplotlib.pyplot as plt\n",
    "import math\n",
    "import matplotlib.mlab as mlab\n",
    "from statistics import stdev"
   ]
  },
  {
   "cell_type": "code",
   "execution_count": 15,
   "metadata": {},
   "outputs": [
    {
     "name": "stdout",
     "output_type": "stream",
     "text": [
      "Mean of Sample: 17.169999999999998\n",
      "Standard Deviation of Sample: 2.9814426038413013\n"
     ]
    }
   ],
   "source": [
    "n = 10\n",
    "X = [15.6, 16.2, 22.5, 20.5, 16.4, 19.4, 16.6, 17.9, 12.7, 13.9]\n",
    "Xbar = np.mean(X)\n",
    "print(\"Mean of Sample:\",Xbar)\n",
    "sd = stdev(X)\n",
    "print(\"Standard Deviation of Sample:\",sd) #(Summation of (Xbar - X)/(n-1))"
   ]
  },
  {
   "cell_type": "code",
   "execution_count": 30,
   "metadata": {},
   "outputs": [
    {
     "data": {
      "image/png": "[encoded data removed]",
      "text/plain": [
       "<Figure size 432x288 with 1 Axes>"
      ]
     },
     "metadata": {},
     "output_type": "display_data"
    }
   ],
   "source": [
    "variance = sd*sd\n",
    "x1 = np.linspace(Xbar - 3*sd, Xbar + 3*sd, 100)\n",
    "plt.plot(x1,stats.norm.pdf(x1, Xbar, sd))\n",
    "plt.xlabel('Normal distribution of Engine Emission')\n",
    "plt.show()\n",
    "#Normal Distribution of Sample\n",
    "# By Central Limit Theorem, Mean of Sammple is Mean of Population"
   ]
  },
  {
   "cell_type": "code",
   "execution_count": 37,
   "metadata": {},
   "outputs": [
    {
     "data": {
      "text/plain": [
       "Ttest_1sampResult(statistic=-3.001649525885985, pvalue=0.014916414248897527)"
      ]
     },
     "execution_count": 37,
     "metadata": {},
     "output_type": "execute_result"
    }
   ],
   "source": [
    "# We compare all emission with 20 ppm  \n",
    "stats.ttest_1samp(X,20)\n",
    "\n",
    "#t- value for one sided test is -3.00"
   ]
  },
  {
   "cell_type": "code",
   "execution_count": 35,
   "metadata": {},
   "outputs": [
    {
     "name": "stdout",
     "output_type": "stream",
     "text": [
      "2.8214379233005493\n"
     ]
    }
   ],
   "source": [
    "#Emission mean = 17.17,\n",
    "#We use n-1 = 10-1 = 9, \n",
    "#p<0.01%, Single tail\n",
    "\n",
    "print(stats.t.ppf(1-0.01, 9))"
   ]
  },
  {
   "cell_type": "raw",
   "metadata": {},
   "source": [
    "As, -3 is less than -2.821 (We consider both sides +2.821 and -2.821), We reject HO, null hypothesis\n",
    "\n",
    "H1 is true, we do meet lower emission standard, with even less than 1%\n",
    "\n",
    "Explaination is,\n",
    "99% value is +-2.821\n",
    "Mean is 17.17,\n",
    "sd = 2.98\n",
    "-2.821 < t < +2.821\n",
    "\n",
    "-2.821 < (Xbar-μ) / (2.98/sqrt(10))  < +2.821\n",
    "\n",
    "-2.821 < (17.17-μ)/(0.9423)  < +2.821\n",
    "\n",
    "-2.658 < (17.17-μ)  < +2.658\n",
    "\n",
    "14.512 < μ < +19.828\n",
    "\n",
    "This 14.512 < μ < 19.828 is interval with 99% interval.\n",
    "and 19.828 is less than 20, we meet emission stanadrd."
   ]
  }
 ],
 "metadata": {
  "kernelspec": {
   "display_name": "Python 3",
   "language": "python",
   "name": "python3"
  },
  "language_info": {
   "codemirror_mode": {
    "name": "ipython",
    "version": 3
   },
   "file_extension": ".py",
   "mimetype": "text/x-python",
   "name": "python",
   "nbconvert_exporter": "python",
   "pygments_lexer": "ipython3",
   "version": "3.5.5"
  }
 },
 "nbformat": 4,
 "nbformat_minor": 2
}
