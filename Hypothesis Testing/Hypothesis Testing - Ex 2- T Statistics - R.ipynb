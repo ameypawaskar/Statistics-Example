{
 "cells": [
  {
   "cell_type": "raw",
   "metadata": {},
   "source": [
    "Example 2\n",
    "The mean emission of all engines of a a new design needs to be below 20ppm if the design is to meet new emission requirements. Ten engines are manufactured for testing purpose, and the emission level of each is determined. \n",
    "The emission data is 15.6, 16.2, 22.5, 20.5, 16.4, 19.4, 16.6, 17.9, 12.7, 13.9\n",
    "Does the data supply is sufficient evidence to conclude that this type of engine meets this new standard?\n",
    "Assume we are willing to risk a Type I error with probability = 0.01\n"
   ]
  },
  {
   "cell_type": "raw",
   "metadata": {},
   "source": [
    "Solution - \n",
    "n = 10\n",
    "X = [15.6, 16.2, 22.5, 20.5, 16.4, 19.4, 16.6, 17.9, 12.7, 13.9]\n",
    "X-bar = 17.17\n",
    "σ = 2.98 (Summation of (X-bar - X)/(n-1))\n",
    "\n",
    "H0 : Emssion is 20 ppm  --> μ = 20ppm \n",
    "H1 : Emission is less than 20 ppm --> μ < 20ppm\n",
    "\n",
    "Assume true \n",
    "X-bar = 17.17\n",
    "\n",
    "Reject H0 if P(X-bar = 17.17 if H0 true) < 1%\n",
    "We assume that distribution is normal\n",
    "\n",
    "As small sample, we use T-statistics\n",
    "\n",
    "t = X-bar - 20 / (σ/sqrt(n))\n",
    "  = (17.17-20) / (2.98/sqrt(10))\n",
    "t = - 3.00\n",
    "\n",
    "From T-table calculate t-value for 99% and degree of freedom 9 (Symmetric distribution, one sided degree of freedom 9 (10-1)\n",
    "\n",
    "t-value = -2.821\n",
    "\n",
    "As, -3 is less than -2.821, We reject HO and H1 is true, we do meet lower emission standards, with even less than 1% type I error probability"
   ]
  },
  {
   "cell_type": "code",
   "execution_count": 4,
   "metadata": {},
   "outputs": [
    {
     "name": "stdout",
     "output_type": "stream",
     "text": [
      "[1] \"Mean of Sample:17.17\"\n",
      "[1] \"Standard Deviation of Sample:2.9814426038413\"\n"
     ]
    }
   ],
   "source": [
    "n = 10\n",
    "X = c(15.6, 16.2, 22.5, 20.5, 16.4, 19.4, 16.6, 17.9, 12.7, 13.9)\n",
    "Xbar = mean(X)\n",
    "print(paste0(\"Mean of Sample:\",Xbar))\n",
    "stdev = sd(X)\n",
    "print(paste0(\"Standard Deviation of Sample:\",stdev)) #(Summation of (Xbar - X)/(n-1))\n",
    "variance = stdev*stdev"
   ]
  },
  {
   "cell_type": "code",
   "execution_count": 18,
   "metadata": {},
   "outputs": [
    {
     "data": {
      "text/plain": [
       "\n",
       "\tOne Sample t-test\n",
       "\n",
       "data:  X\n",
       "t = -3.0016, df = 9, p-value = 0.007458\n",
       "alternative hypothesis: true mean is less than 20\n",
       "99 percent confidence interval:\n",
       "     -Inf 19.83009\n",
       "sample estimates:\n",
       "mean of x \n",
       "    17.17 \n"
      ]
     },
     "metadata": {},
     "output_type": "display_data"
    }
   ],
   "source": [
    "# We compare all emission with 20 ppm  \n",
    "\n",
    "t.test(X, mu=20, alternative=\"less\", conf.level=0.99)\n",
    "\n",
    "# alternative = less as we want emission to be lower than 20 ppm\n",
    "#t- value for one sided test is -3.00"
   ]
  },
  {
   "cell_type": "raw",
   "metadata": {},
   "source": [
    "As, -3 is less than -2.821 (We consider both sides +2.821 and -2.821), We reject HO, null hypothesis\n",
    "\n",
    "H1 is true, we do meet lower emission standard, with even less than 1%\n",
    "\n",
    "Explaination is,\n",
    "99% value is +-2.821\n",
    "Mean is 17.17,\n",
    "sd = 2.98\n",
    "-2.821 < t < +2.821\n",
    "\n",
    "-2.821 < (Xbar-μ) / (2.98/sqrt(10))  < +2.821\n",
    "\n",
    "-2.821 < (17.17-μ)/(0.9423)  < +2.821\n",
    "\n",
    "-2.658 < (17.17-μ)  < +2.658\n",
    "\n",
    "14.512 < μ < +19.828\n",
    "\n",
    "This 14.512 < μ < 19.828 is interval with 99% interval.\n",
    "and 19.828 is less than 20, we meet emission stanadrd."
   ]
  }
 ],
 "metadata": {
  "kernelspec": {
   "display_name": "R",
   "language": "R",
   "name": "ir"
  },
  "language_info": {
   "codemirror_mode": "r",
   "file_extension": ".r",
   "mimetype": "text/x-r-source",
   "name": "R",
   "pygments_lexer": "r",
   "version": "3.4.3"
  }
 },
 "nbformat": 4,
 "nbformat_minor": 2
}
