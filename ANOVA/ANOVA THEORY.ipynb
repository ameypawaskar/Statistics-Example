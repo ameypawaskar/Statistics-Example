{
 "cells": [
  {
   "cell_type": "raw",
   "metadata": {},
   "source": [
    "ANOVA (ANalysis Of VAriance)\n",
    "\n",
    "source: website: https://www.statisticshowto.datasciencecentral.com\n",
    "        AND\n",
    "        wikipedia.com"
   ]
  },
  {
   "cell_type": "raw",
   "metadata": {},
   "source": [
    "Analysis of Variance (ANOVA) is collection of statistical models and their associated procedures (such as \"variation\" among and between groups) used to analyse differences among group means"
   ]
  },
  {
   "cell_type": "raw",
   "metadata": {},
   "source": [
    "Basically, you’re testing groups to see if there’s a difference between them. Examples of when you might want to test different groups:\n",
    "1) A group of psychiatric patients are trying three different therapies: counseling, medication and biofeedback. You want to see if one therapy is better than the others.\n",
    "2) A manufacturer has two different processes to make light bulbs. They want to know if one process is better than the other.\n",
    "3) Students from different colleges take the same exam. You want to see if one college outperforms the other."
   ]
  },
  {
   "cell_type": "raw",
   "metadata": {},
   "source": [
    "What Does “One-Way” or “Two-Way Mean?\n",
    "\n",
    "One-way or two-way refers to the number of independent variables (IVs) in your Analysis of Variance test. One-way has one independent variable (with 2 levels) and two-way has two independent variables (can have multiple levels). For example, a one-way Analysis of Variance could have one IV (brand of cereal) and a two-way Analysis of Variance has two IVs (brand of cereal, calories)."
   ]
  },
  {
   "cell_type": "raw",
   "metadata": {},
   "source": [
    "What are “Groups” or “Levels”?\n",
    "\n",
    "Groups or levels are different groups in the same independent variable. In the above example, your levels for “brand of cereal” might be Lucky Charms, Raisin Bran, Cornflakes — a total of three levels. Your levels for “Calories” might be: sweetened, unsweetened — a total of two levels.\n",
    "\n",
    "Let’s say you are studying if Alcoholics Anonymous and individual counseling combined is the most effective treatment for lowering alcohol consumption. You might split the study participants into three groups or levels: medication only, medication and counseling, and counseling only. Your dependent variable would be the number of alcoholic beverages consumed per day."
   ]
  },
  {
   "cell_type": "raw",
   "metadata": {},
   "source": [
    "What Does “Replication” Mean?\n",
    "\n",
    "It’s whether you are replicating your test(s) with multiple groups. With a two way ANOVA with replication , you have two groups and individuals within that group are doing more than one thing (i.e. two groups of students from two colleges taking two tests). If you only have one group taking two tests, you would use without replication."
   ]
  },
  {
   "cell_type": "raw",
   "metadata": {},
   "source": [
    "Types of Tests.\n",
    "There are two main types: one-way and two-way. Two-way tests can be with or without replication.\n",
    "\n",
    "A] One-way ANOVA between groups: used when you want to test two groups to see if there’s a difference between them.\n",
    "B] Two way ANOVA without replication: used when you have one group and you’re double-testing that same group. For example, you’re testing one set of individuals before and after they take a medication to see if it works or not.\n",
    "C] Two way ANOVA with replication: Two groups, and the members of those groups are doing more than one thing. For example, two groups of patients from different hospitals trying two different therapies."
   ]
  },
  {
   "cell_type": "raw",
   "metadata": {},
   "source": [
    "A] One Way ANOVA\n",
    "A one way ANOVA is used to compare two means from two independent (unrelated) groups using the F-distribution. The null hypothesis for the test is that the two means are equal. Therefore, a significant result means that the two means are unequal.\n",
    "\n",
    "When to use a one way ANOVA\n",
    "Situation 1: You have a group of individuals randomly split into smaller groups and completing different tasks. For example, you might be studying the effects of tea on weight loss and form three groups: green tea, black tea, and no tea.\n",
    "Situation 2: Similar to situation 1, but in this case the individuals are split into groups based on an attribute they possess. For example, you might be studying leg strength of people according to weight. You could split participants into weight categories (obese, overweight and normal) and measure their leg strength on a weight machine.\n",
    "\n",
    "Limitations of the One Way ANOVA\n",
    "A one way ANOVA will tell you that at least two groups were different from each other. But it won’t tell you what groups were different. If your test returns a significant f-statistic, you may need to run an ad hoc test (like the Least Significant Difference test) to tell you exactly which groups had a difference in means."
   ]
  },
  {
   "cell_type": "raw",
   "metadata": {},
   "source": [
    "B] Two Way ANOVA\n",
    "A Two Way ANOVA is an extension of the One Way ANOVA. With a One Way, you have one independent variable affecting a dependent variable. With a Two Way ANOVA, there are two independents. Use a two way ANOVA when you have one measurement variable (i.e. a quantitative variable) and two nominal variables. In other words, if your experiment has a quantitative outcome and you have two categorical explanatory variables, a two way ANOVA is appropriate.\n",
    "\n",
    "For example, you might want to find out if there is an interaction between income and gender for anxiety level at job interviews. The anxiety level is the outcome, or the variable that can be measured. Gender and Income are the two categorical variables. These categorical variables are also the independent variables, which are called factors in a Two Way ANOVA.\n",
    "\n",
    "The factors can be split into levels. In the above example, income level could be split into three levels: low, middle and high income. Gender could be split into three levels: male, female, and transgender. Treatment groups are all possible combinations of the factors. In this example there would be 3 x 3 = 9 treatment groups."
   ]
  },
  {
   "cell_type": "raw",
   "metadata": {},
   "source": [
    "Main Effect and Interaction Effect\n",
    "\n",
    "The results from a Two Way ANOVA will calculate a main effect and an interaction effect. The main effect is similar to a One Way ANOVA: each factor’s effect is considered separately. With the interaction effect, all factors are considered at the same time. Interaction effects between factors are easier to test if there is more than one observation in each cell. For the above example, multiple stress scores could be entered into cells. If you do enter multiple observations into cells, the number in each cell must be equal.\n",
    "\n",
    "Two null hypotheses are tested if you are placing one observation in each cell. For this example, those hypotheses would be:\n",
    "H01: All the income groups have equal mean stress.\n",
    "H02: All the gender groups have equal mean stress.\n",
    "\n",
    "For multiple observations in cells, you would also be testing a third hypothesis:\n",
    "H03: The factors are independent or the interaction effect does not exist.\n",
    "\n",
    "An F-statistic is computed for each hypothesis you are testing."
   ]
  },
  {
   "cell_type": "raw",
   "metadata": {},
   "source": [
    "Assumptions for Two Way ANOVA\n",
    "\n",
    "1) The population must be close to a normal distribution.\n",
    "2) Samples must be independent.\n",
    "3) Population variances must be equal.\n",
    "4) Groups must have equal sample sizes."
   ]
  },
  {
   "cell_type": "raw",
   "metadata": {},
   "source": [
    "What is MANOVA?\n",
    "Analysis of variance (ANOVA) tests for differences between means. MANOVA is just an ANOVA with several dependent variables. It’s similar to many other tests and experiments in that it’s purpose is to find out if the response variable (i.e. your dependent variable) is changed by manipulating the independent variable. The test helps to answer many research questions, including:\n",
    "\n",
    "Do changes to the independent variables have statistically significant effects on dependent variables?\n",
    "1) What are the interactions among dependent variables?\n",
    "2) What are the interactions among independent variables?\n",
    "\n",
    "MANOVA Example\n",
    "Suppose you wanted to find out if a difference in textbooks affected students’ scores in math and science. Improvements in math and science means that there are two dependent variables, so a MANOVA is appropriate.\n",
    "An ANOVA will give you a single (“univariate”) f-value while a MANOVA will give you a multivariate F value. MANOVA tests the multiple dependent variables by creating new, artificial, dependent variables that maximize group differences. These new dependent variables are linear combinations of the measured dependent variables.\n",
    "\n",
    "Interpreting the MANOVA results\n",
    "If the multivariate F value indicates the test is statistically significant, this means that something is significant. In the above example, you would not know if math scores have improved, science scores have improved (or both). Once you have a significant result, you would then have to look at each individual component (the univariate F tests) to see which dependent variable(s) contributed to the statistically significant result."
   ]
  },
  {
   "cell_type": "raw",
   "metadata": {},
   "source": [
    "Advantages and Disadvantages of MANOVA vs. ANOVA\n",
    "\n",
    "Advantages\n",
    "1) MANOVA enables you to test multiple dependent variables.\n",
    "2) MANOVA can protect against Type I errors.\n",
    "\n",
    "Disadvantages\n",
    "1) MANOVA is many times more complicated than ANOVA, making it a challenge to see which independent variables are affecting dependent variables.\n",
    "2) One degree of freedom is lost with the addition of each new variable.\n",
    "3) The dependent variables should be uncorrelated as much as possible. If they are correlated, the loss in degrees of freedom means that there isn’t much advantages in including more than one dependent variable on the test."
   ]
  },
  {
   "cell_type": "raw",
   "metadata": {},
   "source": [
    "What is Factorial ANOVA?\n",
    "A factorial ANOVA is an Analysis of Variance test with more than one independent variable, or “factor“. It can also refer to more than one Level of Independent Variable. For example, an experiment with a treatment group and a control group has one factor (the treatment) but two levels (the treatment and the control). The terms “two-way” and “three-way” refer to the number of factors or the number of levels in your test. Four-way ANOVA and above are rarely used because the results of the test are complex and difficult to interpret.\n",
    "\n",
    "A two-way ANOVA has two factors (independent variables) and one dependent variable. For example, time spent studying and prior knowledge are factors that affect how well you do on a test.\n",
    "\n",
    "A three-way ANOVA has three factors (independent variables) and one dependent variable. For example, time spent studying, prior knowledge, and hours of sleep are factors that affect how well you do on a test\n",
    "\n",
    "Factorial ANOVA is an efficient way of conducting a test. Instead of performing a series of experiments where you test one independent variable against one dependent variable, you can test all independent variables at the same time."
   ]
  },
  {
   "cell_type": "raw",
   "metadata": {},
   "source": [
    "Variability\n",
    "In a one-way ANOVA, variability is due to the differences between groups and the differences within groups. In factorial ANOVA, each level and factor are paired up with each other (“crossed”). This helps you to see what interactions are going on between the levels and factors. If there is an interaction then the differences in one factor depend on the differences in another.\n",
    "\n",
    "Let’s say you were running a two-way ANOVA to test male/female performance on a final exam. The subjects had either had 4, 6, or 8 hours of sleep.\n",
    "1)IV1: SEX (Male/Female)\n",
    "2)IV2: SLEEP (4/6/8)\n",
    "3)DV: Final Exam Score\n",
    "\n",
    "A two-way factorial ANOVA would help you answer the following questions:\n",
    "1) Is sex a main effect? In other words, do men and women differ significantly on their exam performance?\n",
    "2) Is sleep a main effect? In other words, do people who have had 4,6, or 8 hours of sleep differ significantly in their performance?\n",
    "3) Is there a significant interaction between factors? In other words, how do hours of sleep and sex interact with regards to exam performance?\n",
    "4)Can any differences in sex and exam performance be found in the different levels of sleep?\n",
    "\n",
    "Assumptions of Factorial ANOVA\n",
    "1)Normality: the dependent variable is normally distributed.\n",
    "2)Independence: Observations and groups are independent from each other.\n",
    "3)Equality of Variance: the population variances are equal across factors/levels."
   ]
  },
  {
   "cell_type": "raw",
   "metadata": {},
   "source": [
    "How to run an ANOVA\n",
    "These tests are very time-consuming by hand. In nearly every case you’ll want to use software. It is unlikely you’ll want to do this test by hand, but if you must, these are the steps you’ll want to take:\n",
    "\n",
    "1)Find the mean for each of the groups.\n",
    "2)Find the overall mean (the mean of the groups combined).\n",
    "3)Find the Within Group Variation; the total deviation of each member’s score from the Group Mean.\n",
    "4)Find the Between Group Variation</strong>: the deviation of each Group Mean from the Overall Mean.\n",
    "5)Find the F statistic: the ratio of Between Group Variation to Within Group Variation."
   ]
  },
  {
   "cell_type": "raw",
   "metadata": {},
   "source": [
    "ANOVA vs. T Test\n",
    "\n",
    "A Student’s t-test will tell you if there is a significant variation between groups. A t-test compares means, while the ANOVA compares variances between populations.\n",
    "\n",
    "You could technically perform a series of t-tests on your data. However, as the groups grow in number, you may end up with a lot of pair comparisons that you need to run. ANOVA will give you a single number (the f-statistic) and one p-value to help you support or reject the null hypothesis."
   ]
  },
  {
   "cell_type": "raw",
   "metadata": {},
   "source": [
    "Repeated Measures ANOVA\n",
    "\n",
    "A repeated measures ANOVA is almost the same as one-way ANOVA, with one main difference: you test related groups, not independent ones. It’s called Repeated Measures because the same group of participants is being measured over and over again. \n",
    "\n",
    "For example, you could be studying the cholesterol levels of the same group of patients at 1, 3, and 6 months after changing their diet. For this example, the independent variable is “time” and the dependent variable is “cholesterol.” The independent variable is usually called the within-subjects factor.\n",
    "\n",
    "Repeated measures ANOVA is similar to a simple multivariate design. In both tests, the same participants are measured over and over. However, with repeated measures the same characteristic is measured with a different condition. For example, blood pressure is measured over the condition “time”. For simple multivariate design it is the characteristic that changes. For example, you could measure blood pressure, heart rate and respiration rate over time."
   ]
  },
  {
   "cell_type": "raw",
   "metadata": {},
   "source": [
    "Reasons to use Repeated Measures ANOVA\n",
    "1)When you collect data from the same participants over a period of time, individual differences (a source of between group differences) are reduced or eliminated.\n",
    "2)Testing is more powerful because the sample size isn’t divided between groups.\n",
    "3)The test can be economical, as you’re using the same participants.\n",
    "\n",
    "\n",
    "Assumptions for Repeated Measures ANOVA\n",
    "The results from your repeated measures ANOVA will be valid only if the following assumptions haven’t been violated:\n",
    "1)There must be one independent variable and one dependent variable.\n",
    "2)The dependent variable must be continuous, on an interval scale or a ratio scale.\n",
    "3)The independent variable must be categorical, either on the nominal scale or ordinal scale.\n",
    "3)Ideally, levels of dependence between pairs of groups is equal (“sphericity”). Corrections are possible if this assumption is violated."
   ]
  },
  {
   "cell_type": "raw",
   "metadata": {},
   "source": [
    "Sphericity\n",
    "In statistics, sphericity (ε) refers to Mauchly’s sphericity test, which was developed in 1940 by John W. Mauchly, who co-developed the first general-purpose electronic computer.\n",
    "\n",
    "Definition\n",
    "Sphericity is used as an assumption in repeated measures ANOVA. The assumption states that the variances of the differences between all possible group pairs are equal. If your data violates this assumption, it can result in an increase in a Type I error (the incorrect rejection of the null hypothesis).\n",
    "\n",
    "It’s very common for repeated measures ANOVA to result in a violation of the assumption. If the assumption has been violated, corrections have been developed that can avoid increases in the type I error rate. The correction is applied to the degrees of freedom in the F-distribution.\n",
    "\n",
    "Mauchly’s Sphericity Test\n",
    "Mauchly’s test for sphericity can be run in the majority of statistical software, where it tends to be the default test for sphericity. Mauchly’s test is ideal for mid-size samples. It may fail to detect sphericity in small samples and it may over-detect in large samples.\n",
    "If the test returns a small p-value (p ≤.05), this is an indication that your data has violated the assumption. The following picture of SPSS output for ANOVA shows that the significance “sig” attached to Mauchly’s is .274. This means that the assumption has not been violated for this set of data.\n",
    "\n",
    "You would report the above result as “Mauchly’s Test indicated that the assumption of sphericity had not been violated, χ2(2) = 2.588, p = .274.”\n",
    "\n",
    "If your test returned a small p-value, you should apply a correction, usually either the:\n",
    "\n",
    "Greehnouse-Geisser correction.\n",
    "Huynh-Feldt correction.\n",
    "When ε ≤ 0.75 (or you don’t know what the value for the statistic is), use the Greenhouse-Geisser correction.\n",
    "When ε > .75, use the Huynh-Feldt correction."
   ]
  }
 ],
 "metadata": {
  "kernelspec": {
   "display_name": "Python 3",
   "language": "python",
   "name": "python3"
  },
  "language_info": {
   "codemirror_mode": {
    "name": "ipython",
    "version": 3
   },
   "file_extension": ".py",
   "mimetype": "text/x-python",
   "name": "python",
   "nbconvert_exporter": "python",
   "pygments_lexer": "ipython3",
   "version": "3.5.5"
  }
 },
 "nbformat": 4,
 "nbformat_minor": 2
}
