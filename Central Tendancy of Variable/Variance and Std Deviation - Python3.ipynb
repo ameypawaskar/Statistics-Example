{
 "cells": [
  {
   "cell_type": "raw",
   "metadata": {},
   "source": [
    "Variance and Standard Deviation of numbers or samples."
   ]
  },
  {
   "cell_type": "code",
   "execution_count": 2,
   "metadata": {},
   "outputs": [],
   "source": [
    "#Lets say we have numbers\n",
    "\n",
    "numbers = [1,1,2,3,4] #List of numbers"
   ]
  },
  {
   "cell_type": "raw",
   "metadata": {},
   "source": [
    "Variance of number is squared distance from the mean.\n",
    "\n",
    "Variance, or second moment about the mean, is a measure of the variability (spread or dispersion) of data. A large variance indicates that the data is spread out; a small variance indicates it is clustered closely around the mean.\n",
    "\n",
    "To calculate the variance follow these steps:\n",
    "1) Work out the Mean (the simple average of the numbers)\n",
    "2) Then for each number: subtract the Mean and square the result (the squared difference).\n",
    "3) Then work out the average of those squared differences. (Why Square? - We square the difference as we gave to get independant  deviation from mean. As difference can be positive or negative.)\n",
    "\n",
    "Mean = (1+1+2+3+4)/5 = 11/2 = 2.2"
   ]
  },
  {
   "cell_type": "raw",
   "metadata": {},
   "source": [
    "Syntax: statistics.variance(data, xbar=None)\n",
    "If the optional second argument xbar is given, it should be the mean of data. If it is missing or None (the default), the mean is automatically calculated."
   ]
  },
  {
   "cell_type": "code",
   "execution_count": 3,
   "metadata": {},
   "outputs": [
    {
     "name": "stdout",
     "output_type": "stream",
     "text": [
      "Variance of given set of Numbers =  1.7\n"
     ]
    }
   ],
   "source": [
    "#Using variance function from statistics library\n",
    "#This function works on tuple as well as list\n",
    "\n",
    "from statistics import variance\n",
    "\n",
    "var = variance(numbers)\n",
    "print(\"Variance of given set of Numbers = \", var)"
   ]
  },
  {
   "cell_type": "markdown",
   "metadata": {},
   "source": [
    "Use Above function when your data is a sample from a population.\n",
    "\n",
    "Population Variance of above numbers is 1.35999.\n",
    "Population variance is when sum of square of difference is divided by N not (N-1)"
   ]
  },
  {
   "cell_type": "raw",
   "metadata": {},
   "source": [
    "Note on Population and Sample Variance:\n",
    "Sample variance s² with Bessel’s correction, also known as variance with N-1 degrees of freedom. Provided that the data points are representative (e.g. independent and identically distributed), the result should be an unbiased estimate of the true population variance.\n",
    "If you somehow know the actual population mean μ you should pass it to the pvariance() function as the mu parameter to get the variance of a sample."
   ]
  },
  {
   "cell_type": "raw",
   "metadata": {},
   "source": [
    "Standard Deviation\n",
    "statistics.stdev(data, xbar=None)\n",
    "Return the sample standard deviation (the square root of the sample variance)."
   ]
  },
  {
   "cell_type": "code",
   "execution_count": 5,
   "metadata": {},
   "outputs": [
    {
     "name": "stdout",
     "output_type": "stream",
     "text": [
      "Standard Deviation of given set of Numbers =  1.3038404810405297\n"
     ]
    }
   ],
   "source": [
    "#Using variance function from statistics library\n",
    "#This function works on tuple as well as list\n",
    "\n",
    "from statistics import stdev\n",
    "\n",
    "StdDev = stdev(numbers)\n",
    "print(\"Standard Deviation of given set of Numbers = \", StdDev)"
   ]
  }
 ],
 "metadata": {
  "kernelspec": {
   "display_name": "Python 3",
   "language": "python",
   "name": "python3"
  },
  "language_info": {
   "codemirror_mode": {
    "name": "ipython",
    "version": 3
   },
   "file_extension": ".py",
   "mimetype": "text/x-python",
   "name": "python",
   "nbconvert_exporter": "python",
   "pygments_lexer": "ipython3",
   "version": "3.5.5"
  }
 },
 "nbformat": 4,
 "nbformat_minor": 2
}
