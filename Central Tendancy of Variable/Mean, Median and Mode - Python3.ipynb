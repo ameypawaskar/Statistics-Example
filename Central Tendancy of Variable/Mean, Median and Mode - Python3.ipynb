{
 "cells": [
  {
   "cell_type": "raw",
   "metadata": {},
   "source": [
    "Reperesenation of behaviour of set of numbers is given by mean(arithmatic), median and mode."
   ]
  },
  {
   "cell_type": "code",
   "execution_count": 8,
   "metadata": {},
   "outputs": [],
   "source": [
    "#Lets say we have numbers\n",
    "\n",
    "numbers = [1,1,2,3,4] #List of numbers"
   ]
  },
  {
   "cell_type": "raw",
   "metadata": {},
   "source": [
    "Mean of number is adding all numbers and divide sum by total numbers.\n",
    "\n",
    "Mean = (1+1+2+3+4)/5 = 11/2 = 2.2\n",
    "\n",
    "In Python, there are many ways calculating mean using for loop, labda function, creating function, using numpy mean function, pandas have mean function for dataframe, etc.\n",
    "In this tutorials I am focussing on statistical libraries of Python"
   ]
  },
  {
   "cell_type": "code",
   "execution_count": 9,
   "metadata": {},
   "outputs": [
    {
     "name": "stdout",
     "output_type": "stream",
     "text": [
      "Mean(arithmatic) or average of Numbers =  2.2\n"
     ]
    }
   ],
   "source": [
    "#Using mean function from statistics library\n",
    "#This function works on tuple as well as list\n",
    "\n",
    "from statistics import mean\n",
    "\n",
    "meanOfNumber = mean(numbers)\n",
    "print(\"Mean(arithmatic) or average of Numbers = \", meanOfNumber)"
   ]
  },
  {
   "cell_type": "markdown",
   "metadata": {},
   "source": [
    "The mean is strongly affected by outliers and is not a robust estimator for central location: the mean is not necessarily a typical example of the data points. For more robust, although less efficient, measures of central location, see median() and mode(). (In this case, “efficient” refers to statistical efficiency rather than computational efficiency.)\n",
    "The sample mean gives an unbiased estimate of the true population mean, which means that, taken on average over all the possible samples, mean(sample) converges on the true mean of the entire population. If data represents the entire population rather than a sample, then mean(data) is equivalent to calculating the true population mean μ."
   ]
  },
  {
   "cell_type": "raw",
   "metadata": {},
   "source": [
    "Harmonic mean Function:\n",
    "harmonic_mean(data)\n",
    "Return the harmonic mean of data, a sequence or iterator of real-valued numbers.\n",
    "\n",
    "The harmonic mean, sometimes called the subcontrary mean, is the reciprocal of the arithmetic mean() of the reciprocals of the data. For example, the harmonic mean of three values a, b and c will be equivalent to 3/(1/a + 1/b + 1/c).\n",
    "\n",
    "The harmonic mean is a type of average, a measure of the central location of the data. It is often appropriate when averaging quantities which are rates or ratios, for example speeds. "
   ]
  },
  {
   "cell_type": "code",
   "execution_count": 15,
   "metadata": {},
   "outputs": [
    {
     "ename": "ImportError",
     "evalue": "cannot import name 'harmonic_mean'",
     "output_type": "error",
     "traceback": [
      "\u001b[1;31m---------------------------------------------------------------------------\u001b[0m",
      "\u001b[1;31mImportError\u001b[0m                               Traceback (most recent call last)",
      "\u001b[1;32m<ipython-input-15-711f430995cf>\u001b[0m in \u001b[0;36m<module>\u001b[1;34m()\u001b[0m\n\u001b[0;32m      3\u001b[0m \u001b[1;31m# with P/E (price/earning) ratios of 2.5, 3 and 10. What is the average P/E ratio for the investor’s portfolio?\u001b[0m\u001b[1;33m\u001b[0m\u001b[1;33m\u001b[0m\u001b[0m\n\u001b[0;32m      4\u001b[0m \u001b[1;33m\u001b[0m\u001b[0m\n\u001b[1;32m----> 5\u001b[1;33m \u001b[1;32mfrom\u001b[0m \u001b[0mstatistics\u001b[0m \u001b[1;32mimport\u001b[0m \u001b[0mharmonic_mean\u001b[0m\u001b[1;33m\u001b[0m\u001b[0m\n\u001b[0m\u001b[0;32m      6\u001b[0m \u001b[0mHarmo_mean\u001b[0m \u001b[1;33m=\u001b[0m \u001b[0mharmonic_mean\u001b[0m\u001b[1;33m(\u001b[0m\u001b[1;33m[\u001b[0m\u001b[1;36m2.5\u001b[0m\u001b[1;33m,\u001b[0m \u001b[1;36m3\u001b[0m\u001b[1;33m,\u001b[0m \u001b[1;36m10\u001b[0m\u001b[1;33m]\u001b[0m\u001b[1;33m)\u001b[0m  \u001b[1;31m# For an equal investment portfolio.\u001b[0m\u001b[1;33m\u001b[0m\u001b[0m\n\u001b[0;32m      7\u001b[0m \u001b[0mprint\u001b[0m\u001b[1;33m(\u001b[0m\u001b[1;34m\"Harmonic mean of P/E values for all three companies is:\"\u001b[0m\u001b[1;33m,\u001b[0m\u001b[0mHarmo_mean\u001b[0m\u001b[1;33m)\u001b[0m\u001b[1;33m\u001b[0m\u001b[0m\n",
      "\u001b[1;31mImportError\u001b[0m: cannot import name 'harmonic_mean'"
     ]
    }
   ],
   "source": [
    "#For example:\n",
    "# Suppose an investor purchases an equal value of shares in each of three companies, \n",
    "# with P/E (price/earning) ratios of 2.5, 3 and 10. What is the average P/E ratio for the investor’s portfolio?\n",
    "\n",
    "from statistics import harmonic_mean\n",
    "Harmo_mean = harmonic_mean([2.5, 3, 10])  # For an equal investment portfolio.\n",
    "print(\"Harmonic mean of P/E values for all three companies is:\",Harmo_mean)  "
   ]
  },
  {
   "cell_type": "raw",
   "metadata": {},
   "source": [
    "Median of numbers is middle of sorted list of numbers.\n",
    "Median of 1,1,2,3,4 is 2\n",
    "\n",
    "If total numbers are even, then median is average of middle two numbers.\n",
    "Median of 1,1,2,3,4,4 is 2.5"
   ]
  },
  {
   "cell_type": "code",
   "execution_count": 16,
   "metadata": {},
   "outputs": [
    {
     "name": "stdout",
     "output_type": "stream",
     "text": [
      "Median of list1 is 2\n",
      "Median of list2 is 2.5\n"
     ]
    }
   ],
   "source": [
    "from statistics import median\n",
    "\n",
    "list1 = [1,1,2,3,4]\n",
    "median1 = median(list1)\n",
    "print(\"Median of list1 is\", median1)\n",
    "\n",
    "list2 = [1,1,2,3,4,4]\n",
    "median2 = median(list2)\n",
    "print(\"Median of list2 is\", median2)"
   ]
  },
  {
   "cell_type": "raw",
   "metadata": {},
   "source": [
    "There are also other median functions available in statistics library such as,\n",
    "median_low() = Low median of data (When there are two median numbers). \n",
    "median_high() = High median of data (When there are two median numbers).\n",
    "median_grouped() = Median, or 50th percentile, of grouped data (When there are two median numbers)."
   ]
  },
  {
   "cell_type": "raw",
   "metadata": {},
   "source": [
    "Mode of numbers is most common number list of numbers.\n",
    "Median of 1,1,2,3,4 is 1\n",
    "\n",
    "If total numbers are even, then median is average of middle two numbers.\n",
    "Median of 1,1,2,3,4,4 is both 1 & 4"
   ]
  },
  {
   "cell_type": "code",
   "execution_count": 17,
   "metadata": {},
   "outputs": [
    {
     "name": "stdout",
     "output_type": "stream",
     "text": [
      "Median of list1 is 1\n",
      "Median of list2 is ModeResult(mode=array([1]), count=array([3]))\n"
     ]
    }
   ],
   "source": [
    "from statistics import mode\n",
    "\n",
    "list1 = [1,1,2,3,4]\n",
    "mode1 = mode(list1)\n",
    "print(\"Median of list1 is\", mode1)\n",
    "\n",
    "'''\n",
    "This thorows error, you can usi scipy.mode library funtion or counter function\n",
    "list2 = [1,1,2,3,4,4]\n",
    "mode2 = mode(list2)\n",
    "print(\"Median of list2 is\", mode2)\n",
    "'''\n",
    "\n",
    "from scipy.stats import mode\n",
    "#This returns smallest of common numberes with count\n",
    "list2 = [1,1,1,2,3,4,4,4]\n",
    "mode2 = mode(list2)\n",
    "print(\"Median of list2 is\", mode2)"
   ]
  },
  {
   "cell_type": "code",
   "execution_count": 69,
   "metadata": {},
   "outputs": [
    {
     "name": "stdout",
     "output_type": "stream",
     "text": [
      "Mean of List is 19.166666666666668\n",
      "Median of List is 3.0\n",
      "Mode of List is 3\n"
     ]
    }
   ],
   "source": [
    "# Effect of Outliers on Mean,Median and Mode\n",
    "\n",
    "List = [3,3,3,3,3,100]\n",
    "\n",
    "from statistics import mean,median,mode\n",
    "\n",
    "print(\"Mean of List is\", mean(List))\n",
    "\n",
    "print(\"Median of List is\", median(List))\n",
    "\n",
    "print(\"Mode of List is\", mode(List))"
   ]
  },
  {
   "cell_type": "markdown",
   "metadata": {},
   "source": [
    "From above example we can see that outlier 100 is having dramatica effect on mean/average.\n",
    "Mean , median and mode is to be used while data preparation at appropiate situation"
   ]
  }
 ],
 "metadata": {
  "kernelspec": {
   "display_name": "Python 3",
   "language": "python",
   "name": "python3"
  },
  "language_info": {
   "codemirror_mode": {
    "name": "ipython",
    "version": 3
   },
   "file_extension": ".py",
   "mimetype": "text/x-python",
   "name": "python",
   "nbconvert_exporter": "python",
   "pygments_lexer": "ipython3",
   "version": "3.5.5"
  }
 },
 "nbformat": 4,
 "nbformat_minor": 2
}
