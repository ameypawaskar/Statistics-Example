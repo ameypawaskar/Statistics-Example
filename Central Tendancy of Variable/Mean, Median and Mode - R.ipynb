{
 "cells": [
  {
   "cell_type": "raw",
   "metadata": {},
   "source": [
    "Reperesenation of behaviour of set of numbers is given by mean(arithmatic), median and mode."
   ]
  },
  {
   "cell_type": "code",
   "execution_count": 14,
   "metadata": {},
   "outputs": [],
   "source": [
    "#Lets say we have numbers\n",
    "\n",
    "numbers <- c(1,1,2,3,4) #vector of numbers"
   ]
  },
  {
   "cell_type": "raw",
   "metadata": {},
   "source": [
    "Mean of number is adding all numbers and divide sum by total numbers.\n",
    "\n",
    "Mean = (1+1+2+3+4)/5 = 11/2 = 2.2\n",
    "\n",
    "In Python, there are many ways calculating mean using for loop, labda function, creating function, using numpy mean function, pandas have mean function for dataframe, etc.\n",
    "In this tutorials I am focussing on statistical libraries of Python"
   ]
  },
  {
   "cell_type": "code",
   "execution_count": 24,
   "metadata": {},
   "outputs": [
    {
     "name": "stdout",
     "output_type": "stream",
     "text": [
      "[1] \"Mean(arithmatic) or average of Numbers = 2.2\"\n",
      "Mean(arithmatic) or average of Numbers =  2.2"
     ]
    }
   ],
   "source": [
    "#Using mean function\n",
    "#This function works on vector as well as list\n",
    "\n",
    "meanOfNumber <- mean(numbers)\n",
    "\n",
    "print(paste0('Mean(arithmatic) or average of Numbers = ', meanOfNumber))\n",
    "#or\n",
    "cat('Mean(arithmatic) or average of Numbers = ', meanOfNumber)"
   ]
  },
  {
   "cell_type": "markdown",
   "metadata": {},
   "source": [
    "The mean is strongly affected by outliers and is not a robust estimator for central location: the mean is not necessarily a typical example of the data points. For more robust, although less efficient, measures of central location, see median() and mode(). (In this case, “efficient” refers to statistical efficiency rather than computational efficiency.)\n",
    "The sample mean gives an unbiased estimate of the true population mean, which means that, taken on average over all the possible samples, mean(sample) converges on the true mean of the entire population. If data represents the entire population rather than a sample, then mean(data) is equivalent to calculating the true population mean μ."
   ]
  },
  {
   "cell_type": "raw",
   "metadata": {},
   "source": [
    "Harmonic mean Function:\n",
    "harmonic.mean(data)\n",
    "Return the harmonic mean of data, a sequence or iterator of real-valued numbers.\n",
    "\n",
    "The harmonic mean, sometimes called the subcontrary mean, is the reciprocal of the arithmetic mean() of the reciprocals of the data. For example, the harmonic mean of three values a, b and c will be equivalent to 3/(1/a + 1/b + 1/c).\n",
    "\n",
    "The harmonic mean is a type of average, a measure of the central location of the data. It is often appropriate when averaging quantities which are rates or ratios, for example speeds. "
   ]
  },
  {
   "cell_type": "code",
   "execution_count": 38,
   "metadata": {},
   "outputs": [
    {
     "name": "stdout",
     "output_type": "stream",
     "text": [
      "[1] \"Harmonic mean of P/E values for all three companies is:\"\n",
      "$harmean\n",
      "[1] 3.6\n",
      "\n",
      "$correction\n",
      "[1] 1\n",
      "\n",
      "$source\n",
      "[1] \"harmonic.mean\"\n",
      "\n"
     ]
    }
   ],
   "source": [
    "#For example:\n",
    "# Suppose an investor purchases an equal value of shares in each of three companies, \n",
    "# with P/E (price/earning) ratios of 2.5, 3 and 10. What is the average P/E ratio for the investor’s portfolio?\n",
    "\n",
    "values <- c(2.5, 3, 10)\n",
    "\n",
    "#install.packages(\"lmomco\")\n",
    "library(lmomco)\n",
    "# For an equal investment portfolio.\n",
    "print(\"Harmonic mean of P/E values for all three companies is:\")\n",
    "print(harmonic.mean(values))  "
   ]
  },
  {
   "cell_type": "raw",
   "metadata": {},
   "source": [
    "Median of numbers is middle of sorted list of numbers.\n",
    "Median of 1,1,2,3,4 is 2\n",
    "\n",
    "If total numbers are even, then median is average of middle two numbers.\n",
    "Median of 1,1,2,3,4,4 is 2.5"
   ]
  },
  {
   "cell_type": "code",
   "execution_count": 45,
   "metadata": {},
   "outputs": [
    {
     "name": "stdout",
     "output_type": "stream",
     "text": [
      "Median of list1 is 2\n",
      "Median of list2 is 2.5"
     ]
    }
   ],
   "source": [
    "list1 <- c(1,1,2,3,4)\n",
    "median1 <- median(list1)\n",
    "cat(\"Median of list1 is\", median1)\n",
    "\n",
    "list2 <- c(1,1,2,3,4,4)\n",
    "median2 <- median(list2)\n",
    "cat(\"\\nMedian of list2 is\", median2)"
   ]
  },
  {
   "cell_type": "raw",
   "metadata": {},
   "source": [
    "Mode of numbers is most common number list of numbers.\n",
    "Median of 1,1,2,3,4,4,4 is 1\n",
    "\n",
    "If total numbers are even, then median is average of middle two numbers.\n",
    "Median of 1,1,2,3,4,4 is both 1 & 4"
   ]
  },
  {
   "cell_type": "code",
   "execution_count": 57,
   "metadata": {},
   "outputs": [
    {
     "name": "stdout",
     "output_type": "stream",
     "text": [
      "Median of list1 is 4"
     ]
    }
   ],
   "source": [
    "#There is no inbuilt function available in R package\n",
    "#Following function will give mode of categorical as well as numerical values.\n",
    "\n",
    "Mode = function(x){ \n",
    "    ta = table(x)\n",
    "    tam = max(ta)\n",
    "    if (all(ta == tam))\n",
    "         mod = NA\n",
    "    else\n",
    "         if(is.numeric(x))\n",
    "    mod = as.numeric(names(ta)[ta == tam])\n",
    "    else\n",
    "         mod = names(ta)[ta == tam]\n",
    "    return(mod)\n",
    "}\n",
    "\n",
    "list1 <- c(1,1,2,3,4,4,4)\n",
    "mode1 <- Mode(list1)\n",
    "cat(\"Median of list1 is\", mode1)"
   ]
  },
  {
   "cell_type": "code",
   "execution_count": 56,
   "metadata": {},
   "outputs": [
    {
     "name": "stdout",
     "output_type": "stream",
     "text": [
      "Mean of List is 19.16667\n",
      "Median of List is 3\n",
      "Mode of List is 3"
     ]
    }
   ],
   "source": [
    "# Effect of Outliers on Mean,Median and Mode\n",
    "\n",
    "List = c(3,3,3,3,3,100)\n",
    "\n",
    "cat(\"Mean of List is\", mean(List))\n",
    "\n",
    "cat(\"\\nMedian of List is\", median(List))\n",
    "\n",
    "cat(\"\\nMode of List is\", Mode(List))"
   ]
  },
  {
   "cell_type": "markdown",
   "metadata": {},
   "source": [
    "From above example we can see that outlier 100 is having dramatica effect on mean/average.\n",
    "Mean , median and mode is to be used while data preparation at appropiate situation"
   ]
  }
 ],
 "metadata": {
  "kernelspec": {
   "display_name": "R",
   "language": "R",
   "name": "ir"
  }
 },
 "nbformat": 4,
 "nbformat_minor": 2
}
